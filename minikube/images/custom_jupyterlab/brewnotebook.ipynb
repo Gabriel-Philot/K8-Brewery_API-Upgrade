{
 "cells": [
  {
   "cell_type": "markdown",
   "metadata": {},
   "source": [
    "## Imports\n",
    "\n",
    "* duckDb connections/configs to acess all the data from the project \n"
   ]
  },
  {
   "cell_type": "code",
   "execution_count": null,
   "metadata": {},
   "outputs": [],
   "source": [
    "from resources.duckDB import DuckDBMinIOConnector\n",
    "from resources.utils.utils import display_result\n",
    "import pandas as pd"
   ]
  },
  {
   "cell_type": "markdown",
   "metadata": {},
   "source": [
    "## Testing connections with every single layer"
   ]
  },
  {
   "cell_type": "code",
   "execution_count": null,
   "metadata": {},
   "outputs": [],
   "source": [
    "# First test connection to bronze layer\n",
    "\n",
    "query= \"\"\"\n",
    "SELECT * FROM {{table}} limit 10;\n",
    "\"\"\"\n",
    "\n",
    "connector = DuckDBMinIOConnector()\n",
    "result = connector.execute_query(\"bronze\", \"json\", query)\n",
    "display_result(result)\n",
    "connector.close_connection()"
   ]
  },
  {
   "cell_type": "code",
   "execution_count": null,
   "metadata": {},
   "outputs": [],
   "source": [
    "# First test connection to silver layer\n",
    "\n",
    "querysilver= \"\"\"\n",
    "SELECT * FROM {{table}} limit 10;\n",
    "\"\"\"\n",
    "\n",
    "connector = DuckDBMinIOConnector()\n",
    "result = connector.execute_query(\"silver\", \"delta\", querysilver)\n",
    "display_result(result)\n",
    "connector.close_connection()"
   ]
  },
  {
   "cell_type": "code",
   "execution_count": null,
   "metadata": {},
   "outputs": [],
   "source": [
    "# First test connection to gold layer\n",
    "\n",
    "querygold= \"\"\"\n",
    "SELECT * FROM {{table}} \n",
    "ORDER BY breweries_count desc\n",
    "limit 10;\n",
    "\"\"\"\n",
    "\n",
    "connector = DuckDBMinIOConnector()\n",
    "result = connector.execute_query(\"gold\", \"delta\", querygold)\n",
    "display_result(result)\n",
    "connector.close_connection()"
   ]
  }
 ],
 "metadata": {
  "kernelspec": {
   "display_name": "bil-venv",
   "language": "python",
   "name": "python3"
  },
  "language_info": {
   "codemirror_mode": {
    "name": "ipython",
    "version": 3
   },
   "file_extension": ".py",
   "mimetype": "text/x-python",
   "name": "python",
   "nbconvert_exporter": "python",
   "pygments_lexer": "ipython3",
   "version": "3.12.3"
  }
 },
 "nbformat": 4,
 "nbformat_minor": 2
}
